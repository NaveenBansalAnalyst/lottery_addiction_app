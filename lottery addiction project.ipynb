{
 "cells": [
  {
   "cell_type": "markdown",
   "id": "acb2dce6",
   "metadata": {},
   "source": [
    "# Mobile App for Lottery Addiction"
   ]
  },
  {
   "cell_type": "markdown",
   "id": "adf5943b",
   "metadata": {},
   "source": [
    "## Introduction"
   ]
  },
  {
   "cell_type": "markdown",
   "id": "b7edb1f7",
   "metadata": {},
   "source": [
    "Many people start playing the lottery for fun, but for some this activity turns into a habit which eventually escalates into addiction. Like other compulsive gamblers, lottery addicts soon begin spending from their savings and loans, they start to accumulate debts, and eventually engage in desperate behaviors like theft."
   ]
  },
  {
   "cell_type": "markdown",
   "id": "6c4c9870",
   "metadata": {},
   "source": [
    "A medical institute that aims to prevent and treat gambling addictions, wants to build a dedicated mobile app to help lottery addicts better estimate their chances of winning. The institute has a team of engineers that will build the app, but they need us to create the logical core of the app and calculate probabilities."
   ]
  },
  {
   "cell_type": "markdown",
   "id": "3d8db7e9",
   "metadata": {},
   "source": [
    "## Objective"
   ]
  },
  {
   "cell_type": "markdown",
   "id": "7edd459a",
   "metadata": {},
   "source": [
    "For the first version of the app, they want us to focus on the 6/49 lottery and build functions that enable users to answer questions like:\n",
    "\n",
    "* What is the probability of winning the big prize with a single ticket?\n",
    "* What is the probability of winning the big prize if we play 40 different tickets (or any other number)?\n",
    "* What is the probability of having at least five (or four, or three, or two) winning numbers on a single ticket?"
   ]
  },
  {
   "cell_type": "markdown",
   "id": "1f3038a4",
   "metadata": {},
   "source": [
    "The institute also wants us to consider historical data coming from the national 6/49 lottery game in Canada. The data set has data for 3,665 drawings, dating from 1982 to 2018 "
   ]
  },
  {
   "cell_type": "markdown",
   "id": "46cf165f",
   "metadata": {},
   "source": [
    "# Writing the core functions"
   ]
  },
  {
   "cell_type": "markdown",
   "id": "bc29c91d",
   "metadata": {},
   "source": [
    "Throughout the project, we'll need to calculate repeatedly probabilities and combinations. As a consequence, we'll start by writing two functions that we'll use often:\n",
    "\n",
    "A function that calculates factorials and a function that calculates combinations."
   ]
  },
  {
   "cell_type": "markdown",
   "id": "b1745970",
   "metadata": {},
   "source": [
    "## Function for factorials"
   ]
  },
  {
   "cell_type": "code",
   "execution_count": 1,
   "id": "c02d1190",
   "metadata": {},
   "outputs": [],
   "source": [
    "def factorial(n):\n",
    "    final_product = 1\n",
    "    for i in range(n, 0, -1):\n",
    "        final_product *= i\n",
    "    return final_product"
   ]
  },
  {
   "cell_type": "markdown",
   "id": "30eb0787",
   "metadata": {},
   "source": [
    "## Function for combinations"
   ]
  },
  {
   "cell_type": "code",
   "execution_count": 2,
   "id": "0758704a",
   "metadata": {},
   "outputs": [],
   "source": [
    "def combination(n, k):\n",
    "    numerator = factorial(n)\n",
    "    denominator = factorial(k) * factorial(n - k)\n",
    "    return numerator / denominator"
   ]
  },
  {
   "cell_type": "markdown",
   "id": "1ec30faf",
   "metadata": {},
   "source": [
    "# The 6/49 lottery"
   ]
  },
  {
   "cell_type": "markdown",
   "id": "7353f247",
   "metadata": {},
   "source": [
    "In the 6/49 lottery, six numbers are drawn from a set of 49 numbers that range from 1 to 49. A player wins the big prize if the six numbers on their tickets match all the six numbers drawn. If a player has a ticket with the numbers {13, 22, 24, 27, 42, 44}, he only wins the big prize if the numbers drawn are {13, 22, 24, 27, 42, 44}(does NOT need to be in that order). If only one number differs, he doesn't win."
   ]
  },
  {
   "cell_type": "markdown",
   "id": "42f1d7a7",
   "metadata": {},
   "source": [
    "The main thing to consider about lottery drawings is they are **Unordered sampling without replacement.**"
   ]
  },
  {
   "cell_type": "markdown",
   "id": "7c5429be",
   "metadata": {},
   "source": [
    "## Writing a function to calculate probability for a single ticket"
   ]
  },
  {
   "cell_type": "markdown",
   "id": "5ee9d3e6",
   "metadata": {},
   "source": [
    "The engineering team of the medical institute told us we need to be aware of the following details when we write the function:\n",
    "\n",
    "* Inside the app, the user inputs six different numbers from 1 to 49.\n",
    "* Under the hood, the six numbers will come as a Python list, which will serve as the single input to our function.\n",
    "* The engineering team wants the function to print the probability value in a friendly way — in a way that people without any probability training are able to understand."
   ]
  },
  {
   "cell_type": "code",
   "execution_count": 3,
   "id": "af94d520",
   "metadata": {},
   "outputs": [],
   "source": [
    "def one_ticket_probability(a, b, c, d, e, f):\n",
    "    total_comb = combination(49, 6)\n",
    "    probability = (1 / total_comb) * 100\n",
    "    formatted_number = f\"{probability:.10f}\"\n",
    "    return \"The probability of you winning the big prize with these numbers are {} % or once in every {} chances !!!\".format(\n",
    "        formatted_number, total_comb)\n",
    "    \n",
    "    "
   ]
  },
  {
   "cell_type": "markdown",
   "id": "3c98566c",
   "metadata": {},
   "source": [
    "## Testing the function"
   ]
  },
  {
   "cell_type": "markdown",
   "id": "1c46db8f",
   "metadata": {},
   "source": [
    "Let's say we get a lottery ticket with numbers 6, 34, 26, 44, 12 and 31."
   ]
  },
  {
   "cell_type": "code",
   "execution_count": 4,
   "id": "3e7d68cc",
   "metadata": {},
   "outputs": [
    {
     "data": {
      "text/plain": [
       "'The probability of you winning the big prize with these numbers are 0.0000071511 % or once in every 13983816.0 chances !!!'"
      ]
     },
     "execution_count": 4,
     "metadata": {},
     "output_type": "execute_result"
    }
   ],
   "source": [
    "one_ticket_probability(6, 34, 26, 44, 12, 31)"
   ]
  },
  {
   "cell_type": "markdown",
   "id": "460d9735",
   "metadata": {},
   "source": [
    "It's important to note that no matter what numbers the players input into the function, the answer will always be the same."
   ]
  },
  {
   "cell_type": "markdown",
   "id": "aa73f92c",
   "metadata": {},
   "source": [
    "# Emperical probabilities"
   ]
  },
  {
   "cell_type": "markdown",
   "id": "a98bb707",
   "metadata": {},
   "source": [
    "Till now, we told the users what is the theoratical probability of them winning the big prize with a single ticket. But let's allow them to compare their ticket numbers with previous draws from 1982 to 2018 (in Canada) and see if they could have ever won with those numbers."
   ]
  },
  {
   "cell_type": "markdown",
   "id": "0244382c",
   "metadata": {},
   "source": [
    "## Loading the dataset"
   ]
  },
  {
   "cell_type": "code",
   "execution_count": 5,
   "id": "de5c9fda",
   "metadata": {},
   "outputs": [
    {
     "name": "stdout",
     "output_type": "stream",
     "text": [
      "   PRODUCT  DRAW NUMBER  SEQUENCE NUMBER  DRAW DATE  NUMBER DRAWN 1  \\\n",
      "0      649            1                0  6/12/1982               3   \n",
      "1      649            2                0  6/19/1982               8   \n",
      "2      649            3                0  6/26/1982               1   \n",
      "3      649            4                0   7/3/1982               3   \n",
      "4      649            5                0  7/10/1982               5   \n",
      "\n",
      "   NUMBER DRAWN 2  NUMBER DRAWN 3  NUMBER DRAWN 4  NUMBER DRAWN 5  \\\n",
      "0              11              12              14              41   \n",
      "1              33              36              37              39   \n",
      "2               6              23              24              27   \n",
      "3               9              10              13              20   \n",
      "4              14              21              31              34   \n",
      "\n",
      "   NUMBER DRAWN 6  BONUS NUMBER  \n",
      "0              43            13  \n",
      "1              41             9  \n",
      "2              39            34  \n",
      "3              43            34  \n",
      "4              47            45  \n",
      "(3665, 11)\n"
     ]
    }
   ],
   "source": [
    "import pandas as pd\n",
    "lottery_data = pd.read_csv(r'C:\\Users\\nbnav\\OneDrive\\Desktop\\Dataquest\\649.csv')\n",
    "print(lottery_data.head())\n",
    "print(lottery_data.shape)"
   ]
  },
  {
   "cell_type": "markdown",
   "id": "091ab3c0",
   "metadata": {},
   "source": [
    "We can see that the date column \"DRAW DATE\" is not a datetime object. Let's fix that."
   ]
  },
  {
   "cell_type": "code",
   "execution_count": 6,
   "id": "bbc78cde",
   "metadata": {},
   "outputs": [],
   "source": [
    "lottery_data['DRAW DATE'] = pd.to_datetime(lottery_data['DRAW DATE'], format='%m/%d/%Y')"
   ]
  },
  {
   "cell_type": "code",
   "execution_count": 7,
   "id": "adeb0888",
   "metadata": {},
   "outputs": [
    {
     "name": "stdout",
     "output_type": "stream",
     "text": [
      "<class 'pandas.core.frame.DataFrame'>\n",
      "RangeIndex: 3665 entries, 0 to 3664\n",
      "Data columns (total 11 columns):\n",
      " #   Column           Non-Null Count  Dtype         \n",
      "---  ------           --------------  -----         \n",
      " 0   PRODUCT          3665 non-null   int64         \n",
      " 1   DRAW NUMBER      3665 non-null   int64         \n",
      " 2   SEQUENCE NUMBER  3665 non-null   int64         \n",
      " 3   DRAW DATE        3665 non-null   datetime64[ns]\n",
      " 4   NUMBER DRAWN 1   3665 non-null   int64         \n",
      " 5   NUMBER DRAWN 2   3665 non-null   int64         \n",
      " 6   NUMBER DRAWN 3   3665 non-null   int64         \n",
      " 7   NUMBER DRAWN 4   3665 non-null   int64         \n",
      " 8   NUMBER DRAWN 5   3665 non-null   int64         \n",
      " 9   NUMBER DRAWN 6   3665 non-null   int64         \n",
      " 10  BONUS NUMBER     3665 non-null   int64         \n",
      "dtypes: datetime64[ns](1), int64(10)\n",
      "memory usage: 315.1 KB\n"
     ]
    }
   ],
   "source": [
    "lottery_data.info()"
   ]
  },
  {
   "cell_type": "markdown",
   "id": "4fd0bdc9",
   "metadata": {},
   "source": [
    "We have 3665 rows of data which means the lottery was drawn 3,665 times from 1982 to 2018."
   ]
  },
  {
   "cell_type": "markdown",
   "id": "6d81656a",
   "metadata": {},
   "source": [
    "# Function to match numbers with historical draws"
   ]
  },
  {
   "cell_type": "markdown",
   "id": "a64cb069",
   "metadata": {},
   "source": [
    "We will need to convert all the six winning numbers as a python set to later compare them with users numbers."
   ]
  },
  {
   "cell_type": "code",
   "execution_count": 8,
   "id": "da1082a4",
   "metadata": {},
   "outputs": [],
   "source": [
    "def extract_numbers(data_row):\n",
    "    numbers = set(data_row.iloc[4:10].values)\n",
    "    return numbers"
   ]
  },
  {
   "cell_type": "markdown",
   "id": "049ba716",
   "metadata": {},
   "source": [
    "Now we apply the function to every row in lottery_data dataset."
   ]
  },
  {
   "cell_type": "code",
   "execution_count": 9,
   "id": "b8497c58",
   "metadata": {},
   "outputs": [],
   "source": [
    "all_win_num = lottery_data.apply(extract_numbers, axis=1)"
   ]
  },
  {
   "cell_type": "code",
   "execution_count": 10,
   "id": "986e37fd",
   "metadata": {},
   "outputs": [],
   "source": [
    "all_win_num = pd.DataFrame(all_win_num, columns=['winning_numbers'])"
   ]
  },
  {
   "cell_type": "code",
   "execution_count": 11,
   "id": "4572a26c",
   "metadata": {},
   "outputs": [],
   "source": [
    "all_win_num['draw_num'] = lottery_data['DRAW NUMBER']"
   ]
  },
  {
   "cell_type": "code",
   "execution_count": 12,
   "id": "717715e2",
   "metadata": {
    "scrolled": true
   },
   "outputs": [
    {
     "name": "stdout",
     "output_type": "stream",
     "text": [
      "           winning_numbers  draw_num\n",
      "0  {3, 41, 11, 12, 43, 14}         1\n",
      "1  {33, 36, 37, 39, 8, 41}         2\n",
      "2   {1, 6, 39, 23, 24, 27}         3\n",
      "3   {3, 9, 10, 43, 13, 20}         4\n",
      "4  {34, 5, 14, 47, 21, 31}         5\n",
      "(3665, 2)\n"
     ]
    }
   ],
   "source": [
    "print(all_win_num.head())\n",
    "print(all_win_num.shape)"
   ]
  },
  {
   "cell_type": "markdown",
   "id": "7be2245c",
   "metadata": {},
   "source": [
    "Now that we have extracted all the winning numbers from the dataset and converted them into a set, we will now define a function that will take in a users numbers and compare it with the extracted numbers and tell the user whether their numbers would have ever won or not."
   ]
  },
  {
   "cell_type": "code",
   "execution_count": 13,
   "id": "1b181384",
   "metadata": {},
   "outputs": [],
   "source": [
    "def check_historical_occurence(user_num_list, pandas_df=all_win_num):\n",
    "    for idx, num_set in enumerate(pandas_df['winning_numbers']):\n",
    "        if set(user_num_list) == num_set:\n",
    "            draw_number = pandas_df['draw_num'].iloc[idx]\n",
    "            return \"Congrats! You would have won in the draw number {}\".format(draw_number)\n",
    "    return \"Oops! These numbers have never won!\""
   ]
  },
  {
   "cell_type": "markdown",
   "id": "f5e5dbbb",
   "metadata": {},
   "source": [
    "# Testing the function"
   ]
  },
  {
   "cell_type": "markdown",
   "id": "a7877f4c",
   "metadata": {},
   "source": [
    "Now let's check if the function works as intended. We will first check on some random numbers and with a high probability, would not get a match. To check the usability of the function, we will pick a random row from the winning numbers."
   ]
  },
  {
   "cell_type": "code",
   "execution_count": 14,
   "id": "c62dd633",
   "metadata": {},
   "outputs": [
    {
     "data": {
      "text/plain": [
       "'Oops! These numbers have never won!'"
      ]
     },
     "execution_count": 14,
     "metadata": {},
     "output_type": "execute_result"
    }
   ],
   "source": [
    "check_historical_occurence([21, 23, 1, 2, 3, 4])"
   ]
  },
  {
   "cell_type": "markdown",
   "id": "b627984a",
   "metadata": {},
   "source": [
    "Now let's pick a random set of winning numbers and also scramble the order of those numbers."
   ]
  },
  {
   "cell_type": "code",
   "execution_count": 15,
   "id": "1363f2c4",
   "metadata": {},
   "outputs": [
    {
     "data": {
      "text/plain": [
       "winning_numbers    {2, 34, 37, 6, 22, 27}\n",
       "draw_num                              457\n",
       "Name: 456, dtype: object"
      ]
     },
     "execution_count": 15,
     "metadata": {},
     "output_type": "execute_result"
    }
   ],
   "source": [
    "all_win_num.iloc[456]"
   ]
  },
  {
   "cell_type": "code",
   "execution_count": 16,
   "id": "77de1f49",
   "metadata": {},
   "outputs": [
    {
     "data": {
      "text/plain": [
       "'Congrats! You would have won in the draw number 457'"
      ]
     },
     "execution_count": 16,
     "metadata": {},
     "output_type": "execute_result"
    }
   ],
   "source": [
    "check_historical_occurence([34, 2, 6, 37, 27, 22])"
   ]
  },
  {
   "cell_type": "markdown",
   "id": "8f9adf2c",
   "metadata": {},
   "source": [
    "Awesome, our code works as intended. Now users can check if their numbers have ever won the big prize."
   ]
  },
  {
   "cell_type": "markdown",
   "id": "be26da92",
   "metadata": {},
   "source": [
    "# Function for multi-ticket probability"
   ]
  },
  {
   "cell_type": "markdown",
   "id": "aa991920",
   "metadata": {},
   "source": [
    "Lottery addicts usually play more than one ticket on a single drawing, thinking that this might increase their chances of winning significantly. Our purpose is to help them better estimate their chances of winning — on this screen, we're going to write a function that will allow the users to calculate the chances of winning for any number of different tickets."
   ]
  },
  {
   "cell_type": "markdown",
   "id": "fd183ea6",
   "metadata": {},
   "source": [
    "For this function, the users will not submit all their lottery numbers but how many tickets they are playing with."
   ]
  },
  {
   "cell_type": "code",
   "execution_count": 17,
   "id": "09e9b313",
   "metadata": {},
   "outputs": [],
   "source": [
    "def multi_ticket_probability(n):\n",
    "    total_comb = combination(49, 6)\n",
    "    probability = (n / total_comb) * 100\n",
    "    formatted_number = f\"{probability:.10f}\"\n",
    "    return \"The probability of you winning the big prize with these tickets is {} %\".format(formatted_number)\n",
    "    "
   ]
  },
  {
   "cell_type": "markdown",
   "id": "9252aa45",
   "metadata": {},
   "source": [
    "## Testing the function"
   ]
  },
  {
   "cell_type": "markdown",
   "id": "3b9f4dcd",
   "metadata": {},
   "source": [
    "Let's say a user had purchased 20 lottery tickets."
   ]
  },
  {
   "cell_type": "code",
   "execution_count": 18,
   "id": "33a5a047",
   "metadata": {},
   "outputs": [
    {
     "data": {
      "text/plain": [
       "'The probability of you winning the big prize with these tickets is 0.0001430225 %'"
      ]
     },
     "execution_count": 18,
     "metadata": {},
     "output_type": "execute_result"
    }
   ],
   "source": [
    "multi_ticket_probability(20)"
   ]
  },
  {
   "cell_type": "markdown",
   "id": "9981dcdc",
   "metadata": {},
   "source": [
    "# Less winning numbers"
   ]
  },
  {
   "cell_type": "markdown",
   "id": "1dbd1cd6",
   "metadata": {},
   "source": [
    "In most 6/49 lotteries there are smaller prizes if a player's ticket match two, three, four, or five of the six numbers drawn. As a consequence, the users might be interested in knowing the probability of having two, three, four, or five winning numbers."
   ]
  },
  {
   "cell_type": "code",
   "execution_count": 26,
   "id": "c84995a4",
   "metadata": {},
   "outputs": [],
   "source": [
    "def probability_exactly_n(integer):\n",
    "    poss_for_chosen_numbers = combination(6, integer)\n",
    "    poss_for_remaining_numbers = combination(49 - 6, 6 - integer)\n",
    "    total_possible_outcomes = poss_for_chosen_numbers * poss_for_remaining_numbers\n",
    "    possible_outcomes_in_6_49 = combination(49, 6)\n",
    "    p_winning_number = total_possible_outcomes / possible_outcomes_in_6_49\n",
    "    formatted_number = round(p_winning_number, 5) * 100\n",
    "    return \"The probability of you winning {} exact numbers is {} %\".format(integer, formatted_number)"
   ]
  },
  {
   "cell_type": "markdown",
   "id": "60b3f30e",
   "metadata": {},
   "source": [
    "## Testing the function"
   ]
  },
  {
   "cell_type": "markdown",
   "id": "64e6f2ff",
   "metadata": {},
   "source": [
    "Let's say a user wants to know the probability for winning in exactly 3 numbers."
   ]
  },
  {
   "cell_type": "code",
   "execution_count": 27,
   "id": "28110a8f",
   "metadata": {},
   "outputs": [
    {
     "data": {
      "text/plain": [
       "'The probability of you winning 3 exact numbers is 1.765 %'"
      ]
     },
     "execution_count": 27,
     "metadata": {},
     "output_type": "execute_result"
    }
   ],
   "source": [
    "probability_exactly_n(3)"
   ]
  },
  {
   "cell_type": "code",
   "execution_count": 28,
   "id": "2dc98b8b",
   "metadata": {},
   "outputs": [
    {
     "data": {
      "text/plain": [
       "'The probability of you winning 2 exact numbers is 13.238 %'"
      ]
     },
     "execution_count": 28,
     "metadata": {},
     "output_type": "execute_result"
    }
   ],
   "source": [
    "probability_exactly_n(2)"
   ]
  },
  {
   "cell_type": "markdown",
   "id": "bfeaf9e8",
   "metadata": {},
   "source": [
    "We can see that the probability of a user winning increases if they only hope for only certain numbers to win."
   ]
  },
  {
   "cell_type": "markdown",
   "id": "9dbe0a64",
   "metadata": {},
   "source": [
    "# Conclusion"
   ]
  },
  {
   "cell_type": "markdown",
   "id": "4eebbc9d",
   "metadata": {},
   "source": [
    "We made four important functions that can be embeded into the app which will allow the users to calculate their chances of winning in each respect.\n",
    "These functions are:\n",
    "\n",
    "* Function to calculate probability for a single ticket - Allows the user to calculate the probability of winning the big prize(always outputs the same answer).\n",
    "\n",
    "* Function to match numbers with historical draws - Allows the user to compare their numbers with historical draws (from Canada) and see if their chosen number has ever won the lottery.\n",
    "\n",
    "* Function for multi-ticket probability - Allows the user to check the probability of winning the big prize if they buy more than one ticket.\n",
    "\n",
    "* Function for Less winning numbers - Allows the user to know the probability of winning less than 6 numbers."
   ]
  },
  {
   "cell_type": "code",
   "execution_count": null,
   "id": "0a1a701b",
   "metadata": {},
   "outputs": [],
   "source": []
  }
 ],
 "metadata": {
  "kernelspec": {
   "display_name": "Python 3 (ipykernel)",
   "language": "python",
   "name": "python3"
  },
  "language_info": {
   "codemirror_mode": {
    "name": "ipython",
    "version": 3
   },
   "file_extension": ".py",
   "mimetype": "text/x-python",
   "name": "python",
   "nbconvert_exporter": "python",
   "pygments_lexer": "ipython3",
   "version": "3.9.13"
  }
 },
 "nbformat": 4,
 "nbformat_minor": 5
}
